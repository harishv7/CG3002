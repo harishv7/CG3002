{
 "cells": [
  {
   "cell_type": "code",
   "execution_count": null,
   "metadata": {
    "collapsed": false
   },
   "outputs": [],
   "source": [
    "# %load Ard2Pi.py\n",
    "import serial\n",
    "import struct\n",
    "import binascii\n",
    "\n",
    "def readlineCR(port):\n",
    "    temp = []\n",
    "    data = []\n",
    "    checksum = 0\n",
    "    computed_checksum = 0\n",
    "    \n",
    "    # Read the op code\n",
    "    current_byte = port.read()\n",
    "    size = int(binascii.hexlify(current_byte), 16)\n",
    "    \n",
    "    current_byte = port.read()\n",
    "    while (current_byte != b'\\r' and current_byte != b''):\n",
    "        # Convert the current_byte to hex format\n",
    "        current_hex = binascii.hexlify(current_byte)\n",
    "        # Update the computed_checksum by xor-ing with the newly acquired data\n",
    "        computed_checksum = computed_checksum ^ int(current_hex, 16)\n",
    "        # If length is < 4, keep appending\n",
    "        if(len(temp) < 4):\n",
    "            temp.append(current_hex)\n",
    "        else:\n",
    "            current_float = convert_to_float(temp)\n",
    "            data.append(current_float[0])\n",
    "            temp = []\n",
    "            temp.append(current_hex)\n",
    "        \n",
    "        current_byte = port.read()\n",
    "        \n",
    "    try:\n",
    "        # Append the last reading into the return data\n",
    "        data.append(convert_to_float(temp)[0])\n",
    "        \n",
    "        # Read checksum\n",
    "        checksum = int(binascii.hexlify(port.read()), 16)\n",
    "    except:\n",
    "        print(\"InvalidArgumentException\")\n",
    "        \n",
    "    # Return a tuple containing the size and data\n",
    "    return (size, checksum, computed_checksum, data)\n",
    "\n",
    "# Convert the array of bytes into float rep\n",
    "def convert_to_float(data):\n",
    "    data.reverse()\n",
    "    int_data = [int(x, 16) for x in data]\n",
    "    float_result = struct.pack('4B', *int_data)\n",
    "    float_result = struct.unpack('>f', b)\n",
    "    return float_result\n",
    "\n",
    "port = serial.Serial(\n",
    "    \"/dev/ttyAMA0\",\n",
    "    baudrate = 115200,\n",
    "    timeout = 0\n",
    ")\n",
    "\n",
    "while True:\n",
    "    if (port.inWaiting() > 0):\n",
    "        buffer_data = readlineCR(port)\n",
    "        print(buffer_data)"
   ]
  },
  {
   "cell_type": "code",
   "execution_count": null,
   "metadata": {
    "collapsed": false
   },
   "outputs": [],
   "source": [
    "# %load Pi2Ard.py\n",
    "import serial\n",
    "\n",
    "port = serial.Serial(\n",
    "    \"/dev/ttyAMA0\",\n",
    "    baudrate = 115200,\n",
    "    timeout = 0\n",
    ")\n",
    "\n",
    "port.write(bytes('556', 'UTF-8'))"
   ]
  }
 ],
 "metadata": {
  "kernelspec": {
   "display_name": "Python [Root]",
   "language": "python",
   "name": "Python [Root]"
  },
  "language_info": {
   "codemirror_mode": {
    "name": "ipython",
    "version": 3
   },
   "file_extension": ".py",
   "mimetype": "text/x-python",
   "name": "python",
   "nbconvert_exporter": "python",
   "pygments_lexer": "ipython3",
   "version": "3.5.2"
  }
 },
 "nbformat": 4,
 "nbformat_minor": 0
}
