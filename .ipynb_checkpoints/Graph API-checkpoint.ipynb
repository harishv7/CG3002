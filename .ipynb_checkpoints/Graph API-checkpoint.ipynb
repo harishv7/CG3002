{
 "cells": [
  {
   "cell_type": "code",
   "execution_count": 2,
   "metadata": {
    "collapsed": true
   },
   "outputs": [],
   "source": [
    "import math\n",
    "\n",
    "class Node:\n",
    "    def __init__(self, node, x, y, node_name):\n",
    "        self.id = node\n",
    "        self.x = x\n",
    "        self.y = y\n",
    "        self.node_name = node_name\n",
    "        self.adj = {}\n",
    "    \n",
    "    def calculate_dist_to(self, neighbour):\n",
    "        return (neighbour.get_x() - self.x, neighbour.get_y() - self.y)\n",
    "    \n",
    "    def add_neighbour(self, neighbour):\n",
    "        self.adj[neighbour] = self.calculate_dist_to(neighbour)\n",
    "    \n",
    "    def get_id(self):\n",
    "        return self.id\n",
    "    \n",
    "    def get_x(self):\n",
    "        return self.x\n",
    "    \n",
    "    def get_y(self):\n",
    "        return self.y\n",
    "    \n",
    "    def get_degree(self):\n",
    "        return len(self.adj)\n",
    "    \n",
    "    def get_neighbours(self):\n",
    "        return self.adj\n",
    "    \n",
    "    def __repr__(self):\n",
    "        return str(self.id) + ' adjacent: ' + str([x.id for x in self.adj]) + '\\n'\n",
    "    \n",
    "    def __str__(self):\n",
    "        return self.__repr__()\n",
    "    "
   ]
  },
  {
   "cell_type": "code",
   "execution_count": 3,
   "metadata": {
    "collapsed": false
   },
   "outputs": [],
   "source": [
    "# This class implements an undirected graph\n",
    "class Graph:\n",
    "    def __init__(self):\n",
    "        self.node_map = {}\n",
    "        self.num_nodes = 0\n",
    "    \n",
    "    def add_node(self, node_id, x, y, node_name):\n",
    "        self.num_nodes = self.num_nodes + 1\n",
    "        new_node = Node(node_id, x, y, node_name)\n",
    "        self.node_map[node_id] = new_node\n",
    "        return new_node\n",
    "    \n",
    "    def is_valid_node_id(self, node_id):\n",
    "        if (node_id not in self.node_map):\n",
    "            return False\n",
    "        return True\n",
    "    \n",
    "    def add_edge(self, node_one, node_two):\n",
    "        if (self.is_valid_node_id(node_one) and self.is_valid_node_id(node_two)):\n",
    "            self.node_map[node_one].add_neighbour(self.node_map[node_two])\n",
    "            self.node_map[node_two].add_neighbour(self.node_map[node_one])\n",
    "    \n",
    "    def get_node(self, node):\n",
    "        return self.node_map[node]\n",
    "    \n",
    "    def get_degree(self, node):\n",
    "        return self.node_map[node].get_degree()\n",
    "    \n",
    "    def get_num_nodes(self):\n",
    "        return self.num_nodes\n",
    "    \n",
    "    def get_nodes(self):\n",
    "        return self.node_map.values()\n",
    "    \n",
    "    def __repr__(self):\n",
    "        result = ''\n",
    "        for node in self.node_map.values():\n",
    "            result += str(node)\n",
    "        return result"
   ]
  },
  {
   "cell_type": "code",
   "execution_count": 4,
   "metadata": {
    "collapsed": false
   },
   "outputs": [],
   "source": [
    "import heapq\n",
    "\n",
    "class Dijkstra:\n",
    "    \n",
    "    def __init__(self, graph, source):\n",
    "        num_nodes = graph.get_num_nodes()\n",
    "        self.dist_to = []  # distance of shortest s->v path\n",
    "        self.edge_to = []  # last edge on shortest s->v path\n",
    "        self.pq = [] # priority queue of vertices\n",
    "        \n",
    "        print(\"num of nodes in graph: \" + str(num_nodes))\n",
    "        \n",
    "        for i in range(0, num_nodes):\n",
    "            self.dist_to.append(math.inf)\n",
    "            self.edge_to.append(None)\n",
    "        print(self.dist_to)\n",
    "        print(self.edge_to)\n",
    "        self.dist_to[source] = 0.0\n",
    "        \n",
    "        # relax vertices in order of distance from s\n",
    "        heapq.heappush(self.pq, (source, self.dist_to[source]))\n",
    "        while(len(self.pq)):\n",
    "            v = heapq.heappop(self.pq)[0]\n",
    "            for neighbour in graph.get_node(v).get_neighbours():\n",
    "                print(neighbour)\n",
    "                self.__relax(graph.get_node(v), neighbour)\n",
    "                \n",
    "    def __relax(self, v, w):\n",
    "            weight = v.calculate_dist_to(w)\n",
    "            weight = weight[0] + weight[1]\n",
    "            v_id = v.get_id()\n",
    "            w_id = w.get_id()\n",
    "            if (self.dist_to[w_id] > self.dist_to[v_id] + weight):\n",
    "                self.dist_to[w_id] = self.dist_to[v_id] + weight\n",
    "                self.edge_to[w_id] = (v, w)\n",
    "            else:\n",
    "                heapq.heappush(w, self.dist_to[w_id])\n",
    "                \n",
    "    def dist_to_node(self, v):\n",
    "        print(self.dist_to[v])\n",
    "        return self.dist_to[v]\n",
    "                 "
   ]
  },
  {
   "cell_type": "code",
   "execution_count": 6,
   "metadata": {
    "collapsed": false
   },
   "outputs": [
    {
     "name": "stdout",
     "output_type": "stream",
     "text": [
      "1 adjacent: [2]\n",
      "2 adjacent: [1, 4, 3]\n",
      "3 adjacent: [2]\n",
      "4 adjacent: [7, 5, 6, 2]\n",
      "5 adjacent: [4, 8]\n",
      "6 adjacent: [4]\n",
      "7 adjacent: [4, 10]\n",
      "8 adjacent: [5, 10, 9]\n",
      "9 adjacent: [8]\n",
      "10 adjacent: [7, 11, 8]\n",
      "11 adjacent: [12, 10, 13, 14]\n",
      "12 adjacent: [11]\n",
      "13 adjacent: [36, 11]\n",
      "14 adjacent: [15, 37, 11]\n",
      "15 adjacent: [32, 14]\n",
      "16 adjacent: [37, 18]\n",
      "17 adjacent: [21, 19, 39]\n",
      "18 adjacent: [16, 22, 20]\n",
      "19 adjacent: [17]\n",
      "20 adjacent: [18]\n",
      "21 adjacent: [23, 17, 24]\n",
      "22 adjacent: [18, 25, 34]\n",
      "23 adjacent: [21]\n",
      "24 adjacent: [21, 28, 27]\n",
      "25 adjacent: [22]\n",
      "26 adjacent: [28, 34, 29]\n",
      "27 adjacent: [24]\n",
      "28 adjacent: [30, 26, 24]\n",
      "29 adjacent: [31, 26]\n",
      "30 adjacent: [28]\n",
      "31 adjacent: [29]\n",
      "32 adjacent: [15, 33, 39]\n",
      "33 adjacent: [32]\n",
      "34 adjacent: [22, 26, 35]\n",
      "35 adjacent: [34]\n",
      "36 adjacent: [13]\n",
      "37 adjacent: [16, 38, 14]\n",
      "38 adjacent: [37]\n",
      "39 adjacent: [40, 17, 32]\n",
      "40 adjacent: [39]\n",
      "\n",
      "num of nodes in graph: 40\n",
      "[inf, inf, inf, inf, inf, inf, inf, inf, inf, inf, inf, inf, inf, inf, inf, inf, inf, inf, inf, inf, inf, inf, inf, inf, inf, inf, inf, inf, inf, inf, inf, inf, inf, inf, inf, inf, inf, inf, inf, inf]\n",
      "[None, None, None, None, None, None, None, None, None, None, None, None, None, None, None, None, None, None, None, None, None, None, None, None, None, None, None, None, None, None, None, None, None, None, None, None, None, None, None, None]\n",
      "2 adjacent: [1, 4, 3]\n",
      "\n",
      "2152.0\n"
     ]
    },
    {
     "data": {
      "text/plain": [
       "2152.0"
      ]
     },
     "execution_count": 6,
     "metadata": {},
     "output_type": "execute_result"
    }
   ],
   "source": [
    "import requests\n",
    "import json\n",
    "\n",
    "r = requests.get(\"http://showmyway.comp.nus.edu.sg/getMapInfo.php?Building=COM1&Level=2\")\n",
    "\n",
    "body = r.json()\n",
    "\n",
    "g = Graph()\n",
    "\n",
    "for node in body[\"map\"]:\n",
    "    node_id = int(node['nodeId'])\n",
    "    x = int(node['x'])\n",
    "    y = int(node['y'])\n",
    "    node_name = node['nodeName']\n",
    "    link_to = node['linkTo'].split(', ')\n",
    "    \n",
    "    g.add_node(node_id, x, y, node_name)\n",
    "    \n",
    "    for i in range(len(link_to)):\n",
    "        g.add_edge(node_id, int(link_to[i]))\n",
    "\n",
    "print(g)\n",
    "shortest_path = Dijkstra(g, 1)\n",
    "shortest_path.dist_to_node(2)\n"
   ]
  },
  {
   "cell_type": "code",
   "execution_count": 11,
   "metadata": {
    "collapsed": false
   },
   "outputs": [
    {
     "ename": "SerialException",
     "evalue": "[Errno 2] could not open port /dev/ttyAMA0: [Errno 2] No such file or directory: '/dev/ttyAMA0'",
     "output_type": "error",
     "traceback": [
      "\u001b[0;31m---------------------------------------------------------------------------\u001b[0m",
      "\u001b[0;31mFileNotFoundError\u001b[0m                         Traceback (most recent call last)",
      "\u001b[0;32m/usr/local/lib/python3.5/site-packages/serial/serialposix.py\u001b[0m in \u001b[0;36mopen\u001b[0;34m(self)\u001b[0m\n\u001b[1;32m    243\u001b[0m         \u001b[0;32mtry\u001b[0m\u001b[0;34m:\u001b[0m\u001b[0;34m\u001b[0m\u001b[0m\n\u001b[0;32m--> 244\u001b[0;31m             \u001b[0mself\u001b[0m\u001b[0;34m.\u001b[0m\u001b[0mfd\u001b[0m \u001b[0;34m=\u001b[0m \u001b[0mos\u001b[0m\u001b[0;34m.\u001b[0m\u001b[0mopen\u001b[0m\u001b[0;34m(\u001b[0m\u001b[0mself\u001b[0m\u001b[0;34m.\u001b[0m\u001b[0mportstr\u001b[0m\u001b[0;34m,\u001b[0m \u001b[0mos\u001b[0m\u001b[0;34m.\u001b[0m\u001b[0mO_RDWR\u001b[0m \u001b[0;34m|\u001b[0m \u001b[0mos\u001b[0m\u001b[0;34m.\u001b[0m\u001b[0mO_NOCTTY\u001b[0m \u001b[0;34m|\u001b[0m \u001b[0mos\u001b[0m\u001b[0;34m.\u001b[0m\u001b[0mO_NONBLOCK\u001b[0m\u001b[0;34m)\u001b[0m\u001b[0;34m\u001b[0m\u001b[0m\n\u001b[0m\u001b[1;32m    245\u001b[0m         \u001b[0;32mexcept\u001b[0m \u001b[0mOSError\u001b[0m \u001b[0;32mas\u001b[0m \u001b[0mmsg\u001b[0m\u001b[0;34m:\u001b[0m\u001b[0;34m\u001b[0m\u001b[0m\n",
      "\u001b[0;31mFileNotFoundError\u001b[0m: [Errno 2] No such file or directory: '/dev/ttyAMA0'",
      "\nDuring handling of the above exception, another exception occurred:\n",
      "\u001b[0;31mSerialException\u001b[0m                           Traceback (most recent call last)",
      "\u001b[0;32m<ipython-input-11-98a88d2ff9af>\u001b[0m in \u001b[0;36m<module>\u001b[0;34m()\u001b[0m\n\u001b[1;32m      9\u001b[0m             \u001b[0;32mreturn\u001b[0m \u001b[0mrv\u001b[0m\u001b[0;34m\u001b[0m\u001b[0m\n\u001b[1;32m     10\u001b[0m \u001b[0;34m\u001b[0m\u001b[0m\n\u001b[0;32m---> 11\u001b[0;31m \u001b[0mport\u001b[0m \u001b[0;34m=\u001b[0m \u001b[0mserial\u001b[0m\u001b[0;34m.\u001b[0m\u001b[0mSerial\u001b[0m\u001b[0;34m(\u001b[0m\u001b[0;34m\"/dev/ttyAMA0\"\u001b[0m\u001b[0;34m,\u001b[0m \u001b[0mbaudrate\u001b[0m\u001b[0;34m=\u001b[0m\u001b[0;36m115200\u001b[0m\u001b[0;34m,\u001b[0m \u001b[0mtimeout\u001b[0m\u001b[0;34m=\u001b[0m\u001b[0;36m3.0\u001b[0m\u001b[0;34m)\u001b[0m\u001b[0;34m\u001b[0m\u001b[0m\n\u001b[0m\u001b[1;32m     12\u001b[0m \u001b[0;32mwhile\u001b[0m\u001b[0;34m(\u001b[0m\u001b[0;32mTrue\u001b[0m\u001b[0;34m)\u001b[0m\u001b[0;34m:\u001b[0m\u001b[0;34m\u001b[0m\u001b[0m\n\u001b[1;32m     13\u001b[0m     \u001b[0mport\u001b[0m\u001b[0;34m.\u001b[0m\u001b[0mwrite\u001b[0m\u001b[0;34m(\u001b[0m\u001b[0;34m\"\\r\\nSay Something\"\u001b[0m\u001b[0;34m)\u001b[0m\u001b[0;34m\u001b[0m\u001b[0m\n",
      "\u001b[0;32m/usr/local/lib/python3.5/site-packages/serial/serialutil.py\u001b[0m in \u001b[0;36m__init__\u001b[0;34m(self, port, baudrate, bytesize, parity, stopbits, timeout, xonxoff, rtscts, write_timeout, dsrdtr, inter_byte_timeout, **kwargs)\u001b[0m\n\u001b[1;32m    180\u001b[0m \u001b[0;34m\u001b[0m\u001b[0m\n\u001b[1;32m    181\u001b[0m         \u001b[0;32mif\u001b[0m \u001b[0mport\u001b[0m \u001b[0;32mis\u001b[0m \u001b[0;32mnot\u001b[0m \u001b[0;32mNone\u001b[0m\u001b[0;34m:\u001b[0m\u001b[0;34m\u001b[0m\u001b[0m\n\u001b[0;32m--> 182\u001b[0;31m             \u001b[0mself\u001b[0m\u001b[0;34m.\u001b[0m\u001b[0mopen\u001b[0m\u001b[0;34m(\u001b[0m\u001b[0;34m)\u001b[0m\u001b[0;34m\u001b[0m\u001b[0m\n\u001b[0m\u001b[1;32m    183\u001b[0m \u001b[0;34m\u001b[0m\u001b[0m\n\u001b[1;32m    184\u001b[0m     \u001b[0;31m#  -  -  -  -  -  -  -  -  -  -  -  -  -  -  -  -  -  -  -  -  -  -  -  -\u001b[0m\u001b[0;34m\u001b[0m\u001b[0;34m\u001b[0m\u001b[0m\n",
      "\u001b[0;32m/usr/local/lib/python3.5/site-packages/serial/serialposix.py\u001b[0m in \u001b[0;36mopen\u001b[0;34m(self)\u001b[0m\n\u001b[1;32m    245\u001b[0m         \u001b[0;32mexcept\u001b[0m \u001b[0mOSError\u001b[0m \u001b[0;32mas\u001b[0m \u001b[0mmsg\u001b[0m\u001b[0;34m:\u001b[0m\u001b[0;34m\u001b[0m\u001b[0m\n\u001b[1;32m    246\u001b[0m             \u001b[0mself\u001b[0m\u001b[0;34m.\u001b[0m\u001b[0mfd\u001b[0m \u001b[0;34m=\u001b[0m \u001b[0;32mNone\u001b[0m\u001b[0;34m\u001b[0m\u001b[0m\n\u001b[0;32m--> 247\u001b[0;31m             \u001b[0;32mraise\u001b[0m \u001b[0mSerialException\u001b[0m\u001b[0;34m(\u001b[0m\u001b[0mmsg\u001b[0m\u001b[0;34m.\u001b[0m\u001b[0merrno\u001b[0m\u001b[0;34m,\u001b[0m \u001b[0;34m\"could not open port {}: {}\"\u001b[0m\u001b[0;34m.\u001b[0m\u001b[0mformat\u001b[0m\u001b[0;34m(\u001b[0m\u001b[0mself\u001b[0m\u001b[0;34m.\u001b[0m\u001b[0m_port\u001b[0m\u001b[0;34m,\u001b[0m \u001b[0mmsg\u001b[0m\u001b[0;34m)\u001b[0m\u001b[0;34m)\u001b[0m\u001b[0;34m\u001b[0m\u001b[0m\n\u001b[0m\u001b[1;32m    248\u001b[0m         \u001b[0;31m#~ fcntl.fcntl(self.fd, fcntl.F_SETFL, 0)  # set blocking\u001b[0m\u001b[0;34m\u001b[0m\u001b[0;34m\u001b[0m\u001b[0m\n\u001b[1;32m    249\u001b[0m \u001b[0;34m\u001b[0m\u001b[0m\n",
      "\u001b[0;31mSerialException\u001b[0m: [Errno 2] could not open port /dev/ttyAMA0: [Errno 2] No such file or directory: '/dev/ttyAMA0'"
     ]
    }
   ],
   "source": [
    "import serial\n",
    "\n",
    "def readlineCR(port):\n",
    "    rv = \"\"\n",
    "    while True:\n",
    "        ch = port.read()\n",
    "        rv += ch\n",
    "        if ch=='\\r' or ch=='':\n",
    "            return rv\n",
    "\n",
    "port = serial.Serial(\"/dev/ttyAMA0\", baudrate=115200, timeout=3.0)\n",
    "while(True):\n",
    "    port.write(\"\\r\\nSay Something\")\n",
    "    rcv = readlineCR(port)\n",
    "    port.write(\"\\r\\nYou sent:\" + rcv)"
   ]
  },
  {
   "cell_type": "code",
   "execution_count": null,
   "metadata": {
    "collapsed": true
   },
   "outputs": [],
   "source": []
  },
  {
   "cell_type": "code",
   "execution_count": null,
   "metadata": {
    "collapsed": true
   },
   "outputs": [],
   "source": []
  }
 ],
 "metadata": {
  "kernelspec": {
   "display_name": "Python 3",
   "language": "python",
   "name": "python3"
  },
  "language_info": {
   "codemirror_mode": {
    "name": "ipython",
    "version": 3
   },
   "file_extension": ".py",
   "mimetype": "text/x-python",
   "name": "python",
   "nbconvert_exporter": "python",
   "pygments_lexer": "ipython3",
   "version": "3.5.1"
  }
 },
 "nbformat": 4,
 "nbformat_minor": 1
}
