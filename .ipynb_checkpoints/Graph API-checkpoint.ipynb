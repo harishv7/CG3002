{
 "cells": [
  {
   "cell_type": "code",
   "execution_count": 107,
   "metadata": {
    "collapsed": true
   },
   "outputs": [],
   "source": [
    "import math\n",
    "\n",
    "class Node:\n",
    "    def __init__(self, node, x, y, node_name):\n",
    "        self.id = node\n",
    "        self.x = x\n",
    "        self.y = y\n",
    "        self.node_name = node_name\n",
    "        self.adj = {}\n",
    "    \n",
    "    def calculate_dist_to(self, neighbour):\n",
    "        return (abs(neighbour.get_x() - self.x), abs(neighbour.get_y() - self.y))\n",
    "    \n",
    "    def add_neighbour(self, neighbour):\n",
    "        self.adj[neighbour] = self.calculate_dist_to(neighbour)\n",
    "    \n",
    "    def get_id(self):\n",
    "        return self.id\n",
    "    \n",
    "    def get_x(self):\n",
    "        return self.x\n",
    "    \n",
    "    def get_y(self):\n",
    "        return self.y\n",
    "    \n",
    "    def get_degree(self):\n",
    "        return len(self.adj)\n",
    "    \n",
    "    def get_neighbours(self):\n",
    "        return self.adj\n",
    "    \n",
    "    def __repr__(self):\n",
    "        return str(self.id) + ' adjacent: ' + str([x.id for x in self.adj]) + '\\n'\n",
    "    \n",
    "    def __str__(self):\n",
    "        return self.__repr__()\n",
    "    "
   ]
  },
  {
   "cell_type": "code",
   "execution_count": null,
   "metadata": {
    "collapsed": true
   },
   "outputs": [],
   "source": []
  },
  {
   "cell_type": "code",
   "execution_count": 108,
   "metadata": {
    "collapsed": false
   },
   "outputs": [],
   "source": [
    "# This class implements an undirected graph\n",
    "class Graph:\n",
    "    def __init__(self):\n",
    "        self.node_map = {}\n",
    "        self.num_nodes = 0\n",
    "    \n",
    "    def add_node(self, node_id, x, y, node_name):\n",
    "        self.num_nodes = self.num_nodes + 1\n",
    "        new_node = Node(node_id, x, y, node_name)\n",
    "        self.node_map[node_id] = new_node\n",
    "        return new_node\n",
    "    \n",
    "    def is_valid_node_id(self, node_id):\n",
    "        if (node_id not in self.node_map):\n",
    "            return False\n",
    "        return True\n",
    "    \n",
    "    def add_edge(self, node_one, node_two):\n",
    "        if (self.is_valid_node_id(node_one) and self.is_valid_node_id(node_two)):\n",
    "            self.node_map[node_one].add_neighbour(self.node_map[node_two])\n",
    "            self.node_map[node_two].add_neighbour(self.node_map[node_one])\n",
    "    \n",
    "    def get_node(self, node):\n",
    "        return self.node_map[node]\n",
    "    \n",
    "    def get_degree(self, node):\n",
    "        return self.node_map[node].get_degree()\n",
    "    \n",
    "    def get_num_nodes(self):\n",
    "        return self.num_nodes\n",
    "    \n",
    "    def get_nodes(self):\n",
    "        return self.node_map.values()\n",
    "    \n",
    "    def __repr__(self):\n",
    "        result = ''\n",
    "        for node in self.node_map.values():\n",
    "            result += str(node)\n",
    "        return result"
   ]
  },
  {
   "cell_type": "code",
   "execution_count": 109,
   "metadata": {
    "collapsed": false
   },
   "outputs": [],
   "source": [
    "import heapq\n",
    "\n",
    "class Dijkstra:\n",
    "    \n",
    "    def __init__(self, graph, source):\n",
    "        num_nodes = graph.get_num_nodes()\n",
    "        self.source_id = source\n",
    "        self.dist_to = {}  # distance of shortest s->v path\n",
    "        self.prev = {}  # previous node on shortest s->v path\n",
    "        self.pq = [] # priority queue of vertices\n",
    "        \n",
    "        nodes = graph.get_nodes()\n",
    "        \n",
    "        for node in nodes:\n",
    "            node_id = node.get_id()\n",
    "            self.dist_to[node_id] = math.inf\n",
    "            self.prev[node_id] = None\n",
    "        self.dist_to[source] = 0.0\n",
    "        \n",
    "        # relax vertices in order of distance from s\n",
    "        heapq.heappush(self.pq, (source, self.dist_to[source]))\n",
    "        while(len(self.pq)):\n",
    "            v = heapq.heappop(self.pq)[0]\n",
    "            for neighbour in graph.get_node(v).get_neighbours():\n",
    "                weight = graph.get_node(v).calculate_dist_to(neighbour)\n",
    "                weight = weight[0] + weight[1]\n",
    "                self.__relax(v, neighbour.get_id(), weight)\n",
    "                \n",
    "    def __relax(self, v_id, w_id, weight):            \n",
    "            # get the index, since we start from 1, we need to minus one\n",
    "            if (self.dist_to[w_id] > self.dist_to[v_id] + weight):\n",
    "                self.dist_to[w_id] = self.dist_to[v_id] + weight\n",
    "                self.prev[w_id] = v_id\n",
    "                heapq.heappush(self.pq, (w_id, self.dist_to[w_id]))\n",
    "                \n",
    "    def dist_to_node(self, v):\n",
    "        return self.dist_to[v]\n",
    "    \n",
    "    def get_path(self, target_id):\n",
    "        path = []\n",
    "        current_node_id = target_id\n",
    "        while (current_node_id != self.source_id):\n",
    "            path.append(current_node_id)\n",
    "            current_node_id = self.prev[current_node_id]\n",
    "        path.append(current_node_id)\n",
    "        return path[::-1]"
   ]
  },
  {
   "cell_type": "code",
   "execution_count": 110,
   "metadata": {
    "collapsed": false
   },
   "outputs": [
    {
     "name": "stdout",
     "output_type": "stream",
     "text": [
      "Graph Created Successfully:\n",
      "1 adjacent: [2]\n",
      "2 adjacent: [3, 1]\n",
      "3 adjacent: [4, 2]\n",
      "4 adjacent: [3, 5]\n",
      "5 adjacent: [4, 6]\n",
      "6 adjacent: [7, 5, 8]\n",
      "7 adjacent: [6]\n",
      "8 adjacent: [6]\n",
      "\n",
      "Enter source node: \n",
      "6\n",
      "\n",
      "Enter destination node: \n",
      "7\n",
      "200.0\n",
      "\n",
      "Shortest path from 6 to 7\n",
      "[6, 7]\n"
     ]
    }
   ],
   "source": [
    "import requests\n",
    "import json\n",
    "\n",
    "r = requests.get(\"http://showmyway.comp.nus.edu.sg/getMapInfo.php?Building=COM1&Level=1\")\n",
    "\n",
    "body = r.json()\n",
    "\n",
    "g = Graph()\n",
    "\n",
    "for node in body[\"map\"]:\n",
    "    node_id = int(node['nodeId'])\n",
    "    x = int(node['x'])\n",
    "    y = int(node['y'])\n",
    "    node_name = node['nodeName']\n",
    "    link_to = node['linkTo'].split(', ')\n",
    "    \n",
    "    g.add_node(node_id, x, y, node_name)\n",
    "    \n",
    "    for i in range(len(link_to)):\n",
    "        g.add_edge(node_id, int(link_to[i]))\n",
    "\n",
    "print(\"Graph Created Successfully:\")\n",
    "print(g)\n",
    "\n",
    "print(\"Enter source node: \")\n",
    "source = int(input())\n",
    "shortest_path = Dijkstra(g, source)\n",
    "\n",
    "print()\n",
    "\n",
    "print(\"Enter destination node: \")\n",
    "destination = int(input())\n",
    "print(shortest_path.dist_to_node(destination))\n",
    "\n",
    "print()\n",
    "\n",
    "print(\"Shortest path from \" + str(source) + \" to \" + str(destination) + \": \")\n",
    "print(shortest_path.get_path(destination))"
   ]
  },
  {
   "cell_type": "code",
   "execution_count": null,
   "metadata": {
    "collapsed": false
   },
   "outputs": [],
   "source": []
  },
  {
   "cell_type": "code",
   "execution_count": null,
   "metadata": {
    "collapsed": true
   },
   "outputs": [],
   "source": []
  },
  {
   "cell_type": "code",
   "execution_count": null,
   "metadata": {
    "collapsed": true
   },
   "outputs": [],
   "source": []
  }
 ],
 "metadata": {
  "kernelspec": {
   "display_name": "Python 3",
   "language": "python",
   "name": "python3"
  },
  "language_info": {
   "codemirror_mode": {
    "name": "ipython",
    "version": 3
   },
   "file_extension": ".py",
   "mimetype": "text/x-python",
   "name": "python",
   "nbconvert_exporter": "python",
   "pygments_lexer": "ipython3",
   "version": "3.5.1"
  }
 },
 "nbformat": 4,
 "nbformat_minor": 1
}
