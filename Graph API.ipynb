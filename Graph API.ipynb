{
 "cells": [
  {
   "cell_type": "code",
   "execution_count": 170,
   "metadata": {
    "collapsed": true
   },
   "outputs": [],
   "source": [
    "import math\n",
    "\n",
    "class Node:\n",
    "    def __init__(self, node, x, y, node_name):\n",
    "        self.id = node\n",
    "        self.x = x\n",
    "        self.y = y\n",
    "        self.node_name = node_name\n",
    "        self.adj = {}\n",
    "    \n",
    "    def calculate_dist_to(self, neighbour):\n",
    "        return (neighbour.get_x() - self.x, neighbour.get_y() - self.y)\n",
    "    \n",
    "    def add_neighbour(self, neighbour):\n",
    "        self.adj[neighbour] = self.calculate_dist_to(neighbour)\n",
    "    \n",
    "    def get_id(self):\n",
    "        return self.id\n",
    "    \n",
    "    def get_x(self):\n",
    "        return self.x\n",
    "    \n",
    "    def get_y(self):\n",
    "        return self.y\n",
    "    \n",
    "    def get_degree(self):\n",
    "        return len(self.adj)\n",
    "    \n",
    "    def get_neighbours(self):\n",
    "        return self.adj\n",
    "    \n",
    "    def __repr__(self):\n",
    "        return str(self.id) + ' adjacent: ' + str([x.id for x in self.adj]) + '\\n'\n",
    "    \n",
    "    def __str__(self):\n",
    "        return self.__repr__()\n",
    "    "
   ]
  },
  {
   "cell_type": "code",
   "execution_count": 171,
   "metadata": {
    "collapsed": false
   },
   "outputs": [],
   "source": [
    "# This class implements an undirected graph\n",
    "class Graph:\n",
    "    def __init__(self):\n",
    "        self.node_map = {}\n",
    "        self.num_nodes = 0\n",
    "    \n",
    "    def add_node(self, node_id, x, y, node_name):\n",
    "        self.num_nodes = self.num_nodes + 1\n",
    "        new_node = Node(node_id, x, y, node_name)\n",
    "        self.node_map[node_id] = new_node\n",
    "        return new_node\n",
    "    \n",
    "    def get_nodes(self):\n",
    "        return self.node_map.values()\n",
    "    \n",
    "    def is_valid_node_id(self, node_id):\n",
    "        if (node_id not in self.node_map):\n",
    "            return False\n",
    "        return True\n",
    "    \n",
    "    def add_edge(self, node_one, node_two):\n",
    "        if (self.is_valid_node_id(node_one) and self.is_valid_node_id(node_two)):\n",
    "            self.node_map[node_one].add_neighbour(self.node_map[node_two])\n",
    "            self.node_map[node_two].add_neighbour(self.node_map[node_one])\n",
    "    \n",
    "    def get_edges(self, node):\n",
    "        return self.node_map[node]\n",
    "    \n",
    "    def get_degree(self, node):\n",
    "        return self.node_map[node].get_degree()\n",
    "    \n",
    "    def __repr__(self):\n",
    "        result = ''\n",
    "        for node in self.node_map.values():\n",
    "            result += str(node)\n",
    "        return result"
   ]
  },
  {
   "cell_type": "code",
   "execution_count": 172,
   "metadata": {
    "collapsed": true
   },
   "outputs": [],
   "source": [
    "class Dijkstra:\n",
    "    \n",
    "    def __init__(self, graph, source):\n",
    "        self.dist_to = [] # distance of shortest s->v path\n",
    "        self.edge_to = [] # last edge on shortest s->v path\n",
    "        self.pq = [] # priority queue of vertices"
   ]
  },
  {
   "cell_type": "code",
   "execution_count": 173,
   "metadata": {
    "collapsed": false
   },
   "outputs": [
    {
     "name": "stdout",
     "output_type": "stream",
     "text": [
      "1 adjacent: [2]\n",
      "2 adjacent: [3, 1]\n",
      "3 adjacent: [2, 4]\n",
      "4 adjacent: [3, 5]\n",
      "5 adjacent: [6, 4]\n",
      "6 adjacent: [8, 7, 5]\n",
      "7 adjacent: [6]\n",
      "8 adjacent: [6]\n",
      "\n"
     ]
    }
   ],
   "source": [
    "import requests\n",
    "import json\n",
    "\n",
    "r = requests.get(\"http://showmyway.comp.nus.edu.sg/getMapInfo.php?Building=COM1&Level=1\")\n",
    "\n",
    "body = r.json()\n",
    "\n",
    "g = Graph()\n",
    "\n",
    "for node in body[\"map\"]:\n",
    "    node_id = int(node['nodeId'])\n",
    "    x = int(node['x'])\n",
    "    y = int(node['y'])\n",
    "    node_name = node['nodeName']\n",
    "    link_to = node['linkTo'].split(', ')\n",
    "    \n",
    "    g.add_node(node_id, x, y, node_name)\n",
    "    \n",
    "    for i in range(len(link_to)):\n",
    "        g.add_edge(node_id, int(link_to[i]))\n",
    "\n",
    "print(g)"
   ]
  },
  {
   "cell_type": "code",
   "execution_count": null,
   "metadata": {
    "collapsed": true
   },
   "outputs": [],
   "source": []
  },
  {
   "cell_type": "code",
   "execution_count": null,
   "metadata": {
    "collapsed": true
   },
   "outputs": [],
   "source": []
  }
 ],
 "metadata": {
  "kernelspec": {
   "display_name": "Python 3",
   "language": "python",
   "name": "python3"
  },
  "language_info": {
   "codemirror_mode": {
    "name": "ipython",
    "version": 3
   },
   "file_extension": ".py",
   "mimetype": "text/x-python",
   "name": "python",
   "nbconvert_exporter": "python",
   "pygments_lexer": "ipython3",
   "version": "3.5.1"
  }
 },
 "nbformat": 4,
 "nbformat_minor": 1
}
